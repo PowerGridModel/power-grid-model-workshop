{
 "cells": [
  {
   "cell_type": "markdown",
   "id": "e708f200",
   "metadata": {},
   "source": [
    "# Hands-on Workshop: Extending and Modifying a Power Grid Model DS Grid\n",
    "\n",
    "## Introduction & Setup\n",
    "Power Grid Model DS (PGM-DS) is an open-source Python toolkit for modeling electric power grids. It extends the core power-grid-model engine with a user-friendly interface for data science applications​. In PGM-DS, a power network is represented by a Grid dataclass that manages all network components (nodes, lines, transformers, loads, etc.) and ensures their consistency​.\n",
    "\n",
    "This library provides a graph-based representation of the network and an API to modify the network structure (e.g. adding or removing equipment), which is very useful for simulation studies​. In this workshop, you will perform a series of short exercises to get hands-on experience with two key features of PGM-DS:\n",
    "- Extending a grid with custom properties – how to subclass PGM-DS data structures to add your own fields.\n",
    "- Modifying a grid object – how to build and alter a grid (add nodes, lines, etc.) programmatically.\n",
    "\n",
    "We assume you are comfortable with Python and Jupyter notebooks. Before we begin, make sure you have PGM-DS installed:\n",
    "\n",
    "```bash\n",
    "pip install power-grid-model-ds[visualizer]\n",
    "```"
   ]
  },
  {
   "cell_type": "code",
   "execution_count": null,
   "id": "86c14151",
   "metadata": {},
   "outputs": [],
   "source": [
    "!pip install power-grid-model-ds[visualizer] --quiet"
   ]
  },
  {
   "cell_type": "code",
   "execution_count": null,
   "id": "fd2741c2",
   "metadata": {},
   "outputs": [],
   "source": [
    "# ⚙️ Setup\n",
    "import numpy as np\n",
    "from dataclasses import dataclass\n",
    "\n",
    "from power_grid_model_ds import Grid\n",
    "from power_grid_model_ds.arrays import NodeArray, LineArray, SymLoadArray, SourceArray\n",
    "from power_grid_model_ds.enums import NodeType\n",
    "\n",
    "from numpy.typing import NDArray"
   ]
  },
  {
   "cell_type": "markdown",
   "id": "b53605bc",
   "metadata": {},
   "source": [
    "## Exercise 1: Extending the Grid with Custom Properties\n",
    "Context: By default, the PGM-DS Grid includes standard attributes for each component (like node voltage ratings, line impedances, etc.). However, certain project-specific data (for example, simulation results or custom labels) are not included out of the box​. PGM-DS allows you to extend the grid data model by subclassing its array classes to add new columns. In other words, you can inherit the existing functionality and add your own fields​.\n",
    "\n",
    "In this exercise, we will extend the grid to include an output voltage u for nodes and an output current i_from for lines, which are not present in the basic grid.\n",
    "\n",
    "### Step 1: Define Extended Node and Line arrays\n",
    "We create subclasses of NodeArray and LineArray that include the new properties. We'll call them MyNodeArray and MyLineArray. Each subclass defines a class attribute for the new column and (optionally) a default value for that column via a _defaults dictionary.\n",
    "\n",
    "**⚙️ Assignment**: Create two Array extensions to hold the x, y, u (extending NodeArray) and i_from (extending LineArray) attributes\n",
    "\n",
    "**💡 Hint**: https://power-grid-model-ds.readthedocs.io/en/stable/examples/model/grid_extensions_examples.html"
   ]
  },
  {
   "cell_type": "code",
   "execution_count": null,
   "id": "7cfe11a7-80ed-4fe9-8c7f-0daf0ec1c27a",
   "metadata": {},
   "outputs": [],
   "source": [
    "# Build your solution here..."
   ]
  },
  {
   "cell_type": "code",
   "execution_count": null,
   "id": "6ada3e60-8bd7-4687-9f29-3ae5ff029228",
   "metadata": {},
   "outputs": [],
   "source": [
    "# %load solutions/introduction_1_1_define_array_extensions"
   ]
  },
  {
   "cell_type": "markdown",
   "id": "8ef5b9fa",
   "metadata": {},
   "source": [
    "### Step 2: Create an Extended Grid class\n",
    "Now we'll integrate these new arrays into a custom Grid class. We do this by subclassing the PGM-DS Grid and specifying that our grid should use MyNodeArray and MyLineArray instead of the default NodeArray and LineArray. We'll use Python's dataclass to define the new Grid schema:\n",
    "\n",
    "**⚙️ Assignment**: Create a new grid class that uses the extended arrays.\n",
    "\n",
    "**💡 Hint**: https://power-grid-model-ds.readthedocs.io/en/stable/examples/model/grid_extensions_examples.html#adding-the-new-arrays-to-the-grid\n",
    "\n",
    "**💡 Hint**: Make sure to add the `@dataclass` decorator to your grid."
   ]
  },
  {
   "cell_type": "code",
   "execution_count": null,
   "id": "de236a67-1632-4f81-9145-7a904c63746b",
   "metadata": {},
   "outputs": [],
   "source": [
    "# Build your solution here..."
   ]
  },
  {
   "cell_type": "code",
   "execution_count": null,
   "id": "a7512d0d-5d85-44b6-b42e-11be0fa6802a",
   "metadata": {},
   "outputs": [],
   "source": [
    "# %load solutions/introduction_1_2_define_my_grid"
   ]
  },
  {
   "cell_type": "markdown",
   "id": "75264a22",
   "metadata": {},
   "source": [
    "This ExtendedGrid class inherits all the behavior of Grid but with our extended node and line definitions​. Essentially, we've informed the Grid that whenever it creates or manipulates the node or line arrays, it should use the extended versions that include the extra columns."
   ]
  },
  {
   "cell_type": "markdown",
   "id": "430f88b5",
   "metadata": {},
   "source": [
    "### Step 3: Initialize an Extended Grid\n",
    "With the classes defined, let's create an instance of our extended grid. PGM-DS provides a convenient class method Grid.empty() to initialize an empty grid. We'll call this on our ExtendedGrid:\n",
    "\n",
    "**⚙️ Assignment**: Instantiate an empty extended grid\n",
    "\n",
    "**💡 Hint**: https://power-grid-model-ds.readthedocs.io/en/stable/examples/model/grid_examples.html#creating-an-empty-grid"
   ]
  },
  {
   "cell_type": "code",
   "execution_count": null,
   "id": "c6040e5b",
   "metadata": {},
   "outputs": [],
   "source": [
    "# Build your solution here..."
   ]
  },
  {
   "cell_type": "code",
   "execution_count": null,
   "id": "8d5464bf-5689-4919-a85b-b6548b475537",
   "metadata": {},
   "outputs": [],
   "source": [
    "# %load solutions/introduction_1_3_grid_empty"
   ]
  },
  {
   "cell_type": "markdown",
   "id": "06983bc4",
   "metadata": {},
   "source": [
    "Verification: To ensure our extended properties exist, you can access the new attributes:\n",
    "\n",
    "**⚙️ Assignment**: Print some information about the grid.\n",
    "\n",
    "**💡 Hint**: Be creative! You can use the grid's attributes and methods to get information about the grid. Using `print()` on an array will format it for better readability."
   ]
  },
  {
   "cell_type": "code",
   "execution_count": null,
   "id": "ee1afd73",
   "metadata": {},
   "outputs": [],
   "source": [
    "# Build your solution here..."
   ]
  },
  {
   "cell_type": "code",
   "execution_count": null,
   "id": "b4d131c6-094a-49a2-a283-5bdbd05e961d",
   "metadata": {},
   "outputs": [],
   "source": [
    "# %load solutions/introduction_1_3_grid_verification"
   ]
  },
  {
   "cell_type": "markdown",
   "id": "7eb8b79f",
   "metadata": {},
   "source": [
    "Since we haven't added any nodes or lines yet, these arrays are empty"
   ]
  },
  {
   "cell_type": "markdown",
   "id": "c0b7b9e7",
   "metadata": {},
   "source": [
    "## Exercise 2: Building and Modifying the Grid Structure\n",
    "\n",
    "Context: The Grid object allows you to add, remove, and manipulate grid components in-memory. We will now construct a simple network step-by-step using our ext_grid. This will demonstrate how to modify a grid object by adding nodes and branches. In practice, you can start with an empty grid and programmatically add substations, lines, transformers, loads, sources, etc., as needed​. We will create a minimal example with two nodes (a source node and a load node) connected by a line, and verify that the grid is updated accordingly. (For brevity, we'll use a very small grid, but the same methods apply to larger networks.)\n",
    "\n",
    "Note: PGM-DS typically distinguishes node types (e.g., substation vs. regular node) and requires unique IDs for each element. We will manually specify IDs for clarity. The library’s Grid.append() method will be used to add new component records to the grid​.\n"
   ]
  },
  {
   "cell_type": "markdown",
   "id": "6b2d3489",
   "metadata": {},
   "source": [
    "### Step 1: Add a substation node\n",
    "First, let's add a substation node to the grid. We create an MyNodeArray with one entry representing the substation. We need to provide at least an id, a rated voltage (u_rated), and a node type.\n",
    "We will use the enum NodeType.SUBSTATION_NODE for the type.\n",
    "In this example, we will assign the substation an ID of 101 and a rated voltage of 10500.0 (which could represent 10.5 kV):\n",
    "\n",
    "**⚙️ Assignment**: Add a substation to the grid.\n",
    "\n",
    "**💡 Hint**: https://power-grid-model-ds.readthedocs.io/en/stable/examples/model/grid_examples.html#adding-substations"
   ]
  },
  {
   "cell_type": "code",
   "execution_count": null,
   "id": "c03c85f4",
   "metadata": {},
   "outputs": [],
   "source": [
    "# Build your solution here..."
   ]
  },
  {
   "cell_type": "code",
   "execution_count": null,
   "id": "5c641c07-1cc7-44bc-87ff-49bed38e7d5c",
   "metadata": {},
   "outputs": [],
   "source": [
    "# %load solutions/introduction_2_1_add_substation"
   ]
  },
  {
   "cell_type": "markdown",
   "id": "91ca3ea2",
   "metadata": {},
   "source": [
    "Here we constructed a MyNodeArray with one record and then appended it to grid. We set check_max_id=False to disable internal ID checks since we're manually managing IDs in this exercise. After running this, the grid now contains one node. Verification: Check that the node was added. For example:"
   ]
  },
  {
   "cell_type": "code",
   "execution_count": null,
   "id": "8695367f",
   "metadata": {},
   "outputs": [],
   "source": [
    "print(\"Nodes in the grid:\")\n",
    "print(grid.node)"
   ]
  },
  {
   "cell_type": "markdown",
   "id": "88cd0bb5",
   "metadata": {},
   "source": [
    "### Step 2: Add a second node\n",
    "Next, we'll add another node to represent a load or another bus in the grid. This node will be of a generic type (we'll use NodeType.UNSPECIFIED, which equals 0 in the enum). We'll give it an ID of 102 and the same base voltage (10.5 kV).\n",
    "\n",
    "**⚙️ Assignment**: Add a node to the grid. "
   ]
  },
  {
   "cell_type": "code",
   "execution_count": null,
   "id": "780b1c35",
   "metadata": {},
   "outputs": [],
   "source": [
    "# Build your solution here..."
   ]
  },
  {
   "cell_type": "code",
   "execution_count": null,
   "id": "3f987c7c-ea3b-472c-b9f9-f379a478bc4e",
   "metadata": {},
   "outputs": [],
   "source": [
    "# %load solutions/introduction_2_2_add_node"
   ]
  },
  {
   "cell_type": "code",
   "execution_count": null,
   "id": "3791cef2",
   "metadata": {},
   "outputs": [],
   "source": [
    "print(\"Nodes in the grid:\")\n",
    "print(grid.node)"
   ]
  },
  {
   "cell_type": "markdown",
   "id": "a6f17195",
   "metadata": {},
   "source": [
    "### Step 3: Add a line connecting the two nodes\n",
    "Now that we have two nodes, we will connect them with a line. We'll use our MyLineArray to create a single line record. We need to specify an ID for the line (let's use 201), the from_node and to_node it connects (101 to 102), and statuses to indicate the line is active. We should also provide line electrical parameters (resistance, reactance, etc.) – we'll use some placeholder values here for demonstration:\n",
    "\n",
    "**⚙️ Assignment**: Add a line to the grid.\n",
    "\n",
    "**💡 Hint**: https://power-grid-model-ds.readthedocs.io/en/stable/examples/model/grid_examples.html#adding-lines"
   ]
  },
  {
   "cell_type": "code",
   "execution_count": null,
   "id": "b4baa9b6",
   "metadata": {},
   "outputs": [],
   "source": [
    "# Build your solution here..."
   ]
  },
  {
   "cell_type": "code",
   "execution_count": null,
   "id": "0211f7ec-0890-4880-b78a-65610e1eaf10",
   "metadata": {},
   "outputs": [],
   "source": [
    "# %load solutions/introduction_2_3_add_line"
   ]
  },
  {
   "cell_type": "markdown",
   "id": "fa1e3f2f",
   "metadata": {},
   "source": [
    "This adds a line (ID 201) connecting node 101 to 102. We marked the line as active by setting both from_status and to_status to 1. We also provided some dummy impedance values. The approach of constructing a LineArray (or in our case, MyLineArray) with the necessary fields and appending it to the grid is shown in the official examples​. Verification: Check that the line was added to the grid:"
   ]
  },
  {
   "cell_type": "code",
   "execution_count": null,
   "id": "e2914592",
   "metadata": {},
   "outputs": [],
   "source": [
    "print(grid.line)"
   ]
  },
  {
   "cell_type": "markdown",
   "id": "f7a5bc49",
   "metadata": {},
   "source": [
    "### Step 4: Add a load to the second node\n",
    "We'll now add a load connected to node 102. PGM-DS uses a SymLoadArray for symmetrical loads. We will create a single load with an ID of 401 at node 102. We need to specify the node it is attached to, a load type code (we'll use 1 for a basic load type), the specified active (p_specified) and reactive (q_specified) power (let's say 1e6 each, representing 1 MW and 1 Mvar for example), and set its status to active (1):\n",
    "\n",
    "**⚙️ Assignment**: Add a load to the grid.\n",
    "\n",
    "**💡 Hint**: https://power-grid-model-ds.readthedocs.io/en/stable/examples/model/grid_examples.html#adding-loads"
   ]
  },
  {
   "cell_type": "code",
   "execution_count": null,
   "id": "ddd3445c",
   "metadata": {},
   "outputs": [],
   "source": [
    "# Build your solution here..."
   ]
  },
  {
   "cell_type": "code",
   "execution_count": null,
   "id": "5499a30c-8820-4066-a322-ee03d5cfb8cf",
   "metadata": {},
   "outputs": [],
   "source": [
    "# %load solutions/introduction_2_4_add_load"
   ]
  },
  {
   "cell_type": "markdown",
   "id": "972efb50",
   "metadata": {},
   "source": [
    "This adds one load to node 102. In practice, adding loads ensures that node 102 will be consuming power in any simulation. Verification: Check that the load appears in the grid:"
   ]
  },
  {
   "cell_type": "code",
   "execution_count": null,
   "id": "a6e900eb",
   "metadata": {},
   "outputs": [],
   "source": [
    "print(grid.sym_load)"
   ]
  },
  {
   "cell_type": "markdown",
   "id": "da53ba14",
   "metadata": {},
   "source": [
    "### Step 5: Add a source to the substation node\n",
    "Finally, we'll add a power source to supply the grid at the substation (node 101). We'll use SourceArray for this. We'll create a source with ID 501 at node 101, status active (1), and set a reference voltage u_ref. Typically, u_ref might be the slack/reference voltage magnitude or angle; we'll use 0.0 as a reference angle (assuming the default usage):\n",
    "\n",
    "**⚙️ Assignment**: Add a source to the grid.\n",
    "\n",
    "**💡 Hint**: https://power-grid-model-ds.readthedocs.io/en/stable/examples/model/grid_examples.html#adding-a-source"
   ]
  },
  {
   "cell_type": "code",
   "execution_count": null,
   "id": "e741dec4",
   "metadata": {},
   "outputs": [],
   "source": [
    "# Build your solution here..."
   ]
  },
  {
   "cell_type": "code",
   "execution_count": null,
   "id": "1ab72aec-acc5-42ac-b429-18f608d6bd38",
   "metadata": {},
   "outputs": [],
   "source": [
    "# %load solutions/introduction_2_5_add_source"
   ]
  },
  {
   "cell_type": "markdown",
   "id": "bda9752e",
   "metadata": {},
   "source": [
    "This adds a source (e.g., a generator or slack source) at node 101, so the grid now has a supply. Verification: Check the source:"
   ]
  },
  {
   "cell_type": "code",
   "execution_count": null,
   "id": "3047ecf6",
   "metadata": {},
   "outputs": [],
   "source": [
    "print(grid.source)"
   ]
  },
  {
   "cell_type": "markdown",
   "id": "e5e6eb1b",
   "metadata": {},
   "source": [
    "You should see [501] as the source ID and [101] as the node, indicating the source is at node 101. The count of sources should be 1. Now we have built a simple grid with 2 nodes (101 and 102), 1 line connecting them, 1 load at node 102, and 1 source at node 101. It's good practice to ensure all IDs are unique and there are no inconsistencies. PGM-DS provides a method grid.check_ids() to validate this.\n",
    "\n",
    "**⚙️ Assignment**: Check whether all IDs are correct.\n",
    "\n",
    "**💡 Hint**: The grid has a method for that!"
   ]
  },
  {
   "cell_type": "code",
   "execution_count": null,
   "id": "b756a4d5",
   "metadata": {},
   "outputs": [],
   "source": [
    "# Build your solution here..."
   ]
  },
  {
   "cell_type": "code",
   "execution_count": null,
   "id": "403f00f3-d0bd-497a-8b93-8eaba629d68b",
   "metadata": {},
   "outputs": [],
   "source": [
    "# %load solutions/introduction_2_6_check_ids"
   ]
  },
  {
   "cell_type": "markdown",
   "id": "26f831f3",
   "metadata": {},
   "source": [
    "If everything is correct, this should execute without errors (it will raise an exception if any duplicate or conflicting IDs were found). We expect no issues since we chose unique IDs for each element type. For a final summary, let's print out the contents of our grid's key components:"
   ]
  },
  {
   "cell_type": "code",
   "execution_count": null,
   "id": "c94ab378",
   "metadata": {},
   "outputs": [],
   "source": [
    "print(\"Nodes:\", grid.node.id)         # Expect [101 102]\n",
    "print(\"Lines:\", grid.line.id)         # Expect [201]\n",
    "print(\"Loads:\", grid.sym_load.id)     # Expect [401]\n",
    "print(\"Sources:\", grid.source.id)     # Expect [501]"
   ]
  },
  {
   "cell_type": "markdown",
   "id": "a1abb080",
   "metadata": {},
   "source": [
    "Now we can visualize the resulting network"
   ]
  },
  {
   "cell_type": "code",
   "execution_count": null,
   "id": "49c3e647",
   "metadata": {},
   "outputs": [],
   "source": [
    "from power_grid_model_ds.visualizer import visualize\n",
    "\n",
    "visualize(grid)"
   ]
  }
 ],
 "metadata": {
  "kernelspec": {
   "display_name": "Python 3 (ipykernel)",
   "language": "python",
   "name": "python3"
  },
  "language_info": {
   "codemirror_mode": {
    "name": "ipython",
    "version": 3
   },
   "file_extension": ".py",
   "mimetype": "text/x-python",
   "name": "python",
   "nbconvert_exporter": "python",
   "pygments_lexer": "ipython3",
   "version": "3.13.2"
  }
 },
 "nbformat": 4,
 "nbformat_minor": 5
}
