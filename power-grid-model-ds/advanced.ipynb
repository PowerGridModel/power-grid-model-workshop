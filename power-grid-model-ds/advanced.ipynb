{
 "cells": [
  {
   "cell_type": "code",
   "execution_count": null,
   "id": "59d49e29",
   "metadata": {},
   "outputs": [],
   "source": [
    "!pip install pandas power-grid-model-ds[visualizer] --quiet"
   ]
  },
  {
   "cell_type": "markdown",
   "id": "d5e1958f",
   "metadata": {},
   "source": [
    "# ⚡ Advanced PGM-DS Workshop: Solving an Overload Scenario\n",
    "\n",
    "You're a senior grid analyst at GridNova Utilities, responsible for operating a legacy distribution grid in a rural area. The grid is radially operated, with some cables inactive as back-up in case failures. Recently, customer load growth has increased dramatically, particularly in areas served by several long feeders. This has pushed some branches past their capacity, triggering repeated overloads.\n",
    "\n",
    "Your task: upgrade the grid by adding a second substation and relieving the overloaded feeder through new connections to the new substation.\n",
    "\n",
    "This hands-on simulation walks you through each step of diagnosing, planning, and solving this overload using the Power Grid Model Data Science library.\n",
    "\n",
    "## 🎯 Workshop Goals\n",
    "- Detect a line overload using PGM load flow calculations.\n",
    "- Find a suitable node to create a connection to the new substation.\n",
    "- Strategically open a line to reroute power and relieve the feeder.\n"
   ]
  },
  {
   "cell_type": "code",
   "execution_count": null,
   "id": "cf475775",
   "metadata": {},
   "outputs": [],
   "source": [
    "import numpy as np\n",
    "\n",
    "from dataclasses import dataclass\n",
    "from power_grid_model_ds import Grid, GraphContainer\n",
    "from power_grid_model_ds.arrays import LineArray, NodeArray, SourceArray\n",
    "from power_grid_model_ds.enums import NodeType\n",
    "from power_grid_model_ds.visualizer import visualize"
   ]
  },
  {
   "cell_type": "markdown",
   "id": "8a4a9dbb",
   "metadata": {},
   "source": [
    "# 🧪 Step 1: Extend the Data Model\n",
    "Goal: Add coordinate fields and tracking for simulated voltages and line currents. This allows us to store and analyse metadata of the grid needed to to decide where to invest in the grid.\n",
    "\n",
    "You’ll subclass NodeArray and LineArray to add:\n",
    "\n",
    "- x, y coordinates for spatial logic and plotting\n",
    "- u for node voltage results\n",
    "- i_from for line currents\n",
    "- A computed .is_overloaded property for easy filtering\n",
    "\n",
    "This shows how the Grid can be extended to suit the needs of a specific project."
   ]
  },
  {
   "cell_type": "code",
   "execution_count": null,
   "id": "37f4bd29",
   "metadata": {},
   "outputs": [],
   "source": [
    "# 📦 Extend the grid with x, y, u (node) and i_from (line)\n",
    "from numpy.typing import NDArray\n",
    "\n",
    "class MyNodeArray(NodeArray):\n",
    "    _defaults = {\"x\": 0.0, \"y\": 0.0, \"u\": 0.0}\n",
    "    x: NDArray[np.float64]\n",
    "    y: NDArray[np.float64]\n",
    "    u: NDArray[np.float64]\n",
    "\n",
    "class MyLineArray(LineArray):\n",
    "    _defaults = {\"i_from\": 0.0, \"overload_status\": 0}\n",
    "    i_from: NDArray[np.float64]\n",
    "    overload_status: NDArray[np.int8]\n",
    "\n",
    "    def set_overload_status(self):\n",
    "        \"\"\"Set the overload status based on the current and nominal current.\"\"\"\n",
    "        self.overload_status = np.where(self.i_from > self.i_n, 1, 0)\n",
    "\n",
    "    @property\n",
    "    def is_overloaded(self) -> NDArray[np.bool_]:\n",
    "        \"\"\"Check if the line is overloaded.\"\"\"\n",
    "        self.set_overload_status()\n",
    "        return self.overload_status == 1\n",
    "\n",
    "@dataclass\n",
    "class MyGrid(Grid):\n",
    "    node: MyNodeArray\n",
    "    line: MyLineArray\n",
    "    graphs: GraphContainer"
   ]
  },
  {
   "cell_type": "markdown",
   "id": "8e2d5fbe",
   "metadata": {},
   "source": [
    "# 🏗️ Step 2: Load and Prepare the Grid\n",
    "Goal: Load a synthetic medium-voltage grid from the provided data\n",
    "(Code is already given in helper.py file, take a look to see how the grid data is loaded!)"
   ]
  },
  {
   "cell_type": "code",
   "execution_count": null,
   "id": "78d0639e",
   "metadata": {},
   "outputs": [],
   "source": [
    "from helper import load_dummy_grid\n",
    "\n",
    "grid = load_dummy_grid(MyGrid)"
   ]
  },
  {
   "cell_type": "markdown",
   "id": "4d2df7f4",
   "metadata": {},
   "source": [
    "We now loaded our the network visualised here\n",
    "\n",
    "![input_network.png](input_network.png)"
   ]
  },
  {
   "cell_type": "markdown",
   "id": "6ac4eb43",
   "metadata": {},
   "source": [
    "# 🧯 Step 3: Detect the Overload\n",
    "This is your first excercise.\n",
    "\n",
    "Goal: Identify which line(s) are exceeding their rated current (the `i_n` property).\n",
    "\n",
    "You can do this step by step (don't forget to check the PGM-DS documentation):\n",
    "\n",
    "1. Use the PowerGridModelInterface to calculate power flow\n",
    "2. Update the Grid object with the calculated values\n",
    "3. Return the lines (LineArray) that are overloaded\n",
    "\n",
    "**💡 Hint**: You can use the `is_overloaded` property of the `MyLineArray` class to check for overloaded lines.\n",
    "\n",
    "**💡 Hint**: https://power-grid-model-ds.readthedocs.io/en/stable/quick_start.html#performing-power-flow-calculations"
   ]
  },
  {
   "cell_type": "code",
   "execution_count": null,
   "id": "206be67b",
   "metadata": {},
   "outputs": [],
   "source": [
    "def check_for_capacity_issues(grid: Grid) -> LineArray:\n",
    "    \"\"\"Check for capacity issues on the grid.\n",
    "    Return the lines that with capacity issues.\n",
    "    \"\"\"\n",
    "\n",
    "print(check_for_capacity_issues(grid))"
   ]
  },
  {
   "cell_type": "code",
   "execution_count": null,
   "id": "18973302-105f-42c3-9ffd-1408b90aeb10",
   "metadata": {},
   "outputs": [],
   "source": [
    "# %load solutions/advanced_3_check_for_capacity_issues.py"
   ]
  },
  {
   "cell_type": "markdown",
   "id": "4bd3aea9",
   "metadata": {},
   "source": [
    "We can use PGM-DSs visualization function to explore the resulting grid. Check out the highlighting parts of the grid based on it's attributes to find out where the overload occurs"
   ]
  },
  {
   "cell_type": "code",
   "execution_count": null,
   "id": "1774170b",
   "metadata": {},
   "outputs": [],
   "source": [
    "visualize(grid)"
   ]
  },
  {
   "cell_type": "markdown",
   "id": "008fafb9",
   "metadata": {},
   "source": [
    "# 🧭 Step 4: Plan a Relief Strategy\n",
    "\n",
    "If you visualize the grid and highlight the overloaded cables, this is what you will see:\n",
    "\n",
    "![input_network_with_overload.png](input_network_with_overload.png)\n",
    "\n",
    "We found out the north-east part of the area is overloaded.\n",
    "Goal: Place a second substation near the overloaded path. In the next steps we will use this substation to relieve overloaded cables.\n",
    "\n",
    "You’ll:\n",
    "- Create a new substations using the NodeArrayobject at the correct location.\n",
    "\n",
    "This substation will act as a new injection point for rerouting load.\n"
   ]
  },
  {
   "cell_type": "code",
   "execution_count": null,
   "id": "ae5d93b7",
   "metadata": {},
   "outputs": [],
   "source": [
    "# Check the introduction workshop on adding a substation\n",
    "\n",
    "def build_new_substation(grid: Grid, location: tuple[float, float]) -> NodeArray:\n",
    "    \"\"\"Build a new substation at the given location.\n",
    "    Return the new substation.\n",
    "    \"\"\""
   ]
  },
  {
   "cell_type": "code",
   "execution_count": null,
   "id": "bff1e30f-5dd3-4774-977b-5707322a8f59",
   "metadata": {},
   "outputs": [],
   "source": [
    "# %load solutions/advanced_4_build_new_substation.py"
   ]
  },
  {
   "cell_type": "markdown",
   "id": "8f2b17e3",
   "metadata": {},
   "source": [
    "# 🔗 Step 5: Analyze and Connect the Overloaded Route\n",
    "Goal: Identify the best way to connect the new substation to the overloaded routes.\n",
    "\n",
    "You’ll:\n",
    "- Compute which routes (/feeders) are overloaded to see where we need to intervene.\n",
    "- Find which node on an overloaded route is geographically closed to the new substation.\n",
    "- Create a new cable to connect the closest node to the new substation.\n",
    "\n",
    "**💡 Hint**: The lines have been extended with extra properties in Step 1\n",
    "\n",
    "**💡 Hint**: The arrays in the grid have a filter option, https://power-grid-model-ds.readthedocs.io/en/stable/examples/model/array_examples.html#using-filters"
   ]
  },
  {
   "cell_type": "code",
   "execution_count": null,
   "id": "1bfe4e6e",
   "metadata": {},
   "outputs": [],
   "source": [
    "def get_all_congested_routes(grid: Grid) -> list[NodeArray]:\n",
    "    \"\"\"Get all nodes on routes that contain an overloaded line.\"\"\""
   ]
  },
  {
   "cell_type": "code",
   "execution_count": null,
   "id": "dc494d36-5ee7-401c-8a3b-59e701777f8d",
   "metadata": {},
   "outputs": [],
   "source": [
    "# %load solutions/advanced_5_1_get_all_congested_routes.py"
   ]
  },
  {
   "cell_type": "markdown",
   "id": "ee84e60c",
   "metadata": {},
   "source": [
    "Next we will use the nodes x and y coordinates to find a suitable node to connect to the new substation. You will create a find_connection_point function that return the Node in a route which is closest to the new_substation."
   ]
  },
  {
   "cell_type": "code",
   "execution_count": null,
   "id": "32b32015",
   "metadata": {},
   "outputs": [],
   "source": [
    "def find_connection_point(route: NodeArray, new_substation: NodeArray) -> NodeArray:\n",
    "    \"\"\"Calculate the connection point for the new route.\n",
    "    This should be the geographically closest node to the new substation.\n",
    "    \"\"\"\n",
    "    # Calculate the distance of each node in the route to the new_substation\n",
    "    # Return the closest one"
   ]
  },
  {
   "cell_type": "code",
   "execution_count": null,
   "id": "8ce16108-4580-4c32-9e18-60239144ae4f",
   "metadata": {},
   "outputs": [],
   "source": [
    "# %load solutions/advanced_5_2_find_connection_point.py"
   ]
  },
  {
   "cell_type": "markdown",
   "id": "a75e9b73",
   "metadata": {},
   "source": [
    "Finally we build a function that creates a new line between the connection point and the new substation.\n",
    "\n",
    "❗ **IMPORTANT** ❗ The new line should first be created with an open connection; we will optimize the location of the line opening in the next step.\n",
    "\n",
    "**💡 Hint**: In the introduction you learned how to add a LineArray to the grid."
   ]
  },
  {
   "cell_type": "code",
   "execution_count": null,
   "id": "263818f6",
   "metadata": {},
   "outputs": [],
   "source": [
    "def connect_to_route(grid: Grid, connection_point: NodeArray, new_substation: NodeArray) -> None:\n",
    "    \"\"\"Connect the new substation node to the connection point.\n",
    "    \"\"\""
   ]
  },
  {
   "cell_type": "code",
   "execution_count": null,
   "id": "e711bc3c-a09c-4454-b3a5-be4bf15fa077",
   "metadata": {},
   "outputs": [],
   "source": [
    "# %load solutions/advanced_5_3_connect_to_route.py"
   ]
  },
  {
   "cell_type": "markdown",
   "id": "4a9ef582",
   "metadata": {},
   "source": [
    "# 🔌 Step 6: Open the Right Line\n",
    "Goal: Find the optimal line to open to relieve the original overloaded feeder.\n",
    "\n",
    "You’ll:\n",
    "- Trace a path from the newly created cable to the old substation\n",
    "- Evaluate each line on the path by running `check_for_capacity_issues()` and find the optimal line to open\n",
    "- Open the correct line\n",
    "- Confirm the overload is resolved\n",
    "\n",
    "This final step demonstrates how network topology can be programmatically optimized using the Power Grid Model Data Science toolkit!\n",
    "\n"
   ]
  },
  {
   "cell_type": "code",
   "execution_count": null,
   "id": "a494d54c",
   "metadata": {},
   "outputs": [],
   "source": [
    "def optimize_route_transfer(grid: Grid, connection_point: NodeArray, new_substation: NodeArray) -> None:\n",
    "    \"\"\"Attempt to optimize the route transfer moving the normally open point (NOP) upstream towards the old substation.\n",
    "    This way, the new substation will take over more nodes of the original route.\n",
    "    \"\"\"\n",
    "    # Get the path from the connection point to the old substation\n",
    "    ...\n",
    "\n",
    "    # filter the first branch in the path\n",
    "    ...\n",
    "\n",
    "    # Iterate over the path and check if the route is still overloaded\n",
    "    for from_node, to_node in zip(path[0:-1], path[1:]):\n",
    "        # Check if the route is still overloaded\n",
    "        ...\n",
    "        \n",
    "        # Move the Open Point (NOP) upstream\n",
    "        ...\n",
    "    \n",
    "    grid.set_feeder_ids()"
   ]
  },
  {
   "cell_type": "code",
   "execution_count": null,
   "id": "471b9ff0-43ca-432c-9ce9-71fc06d95b86",
   "metadata": {},
   "outputs": [],
   "source": [
    "# %load solutions/advanced_6_optimize_route_transfer.py"
   ]
  },
  {
   "cell_type": "markdown",
   "id": "dbf3243e",
   "metadata": {},
   "source": [
    "Now we combine the functions you created to solve the issues in the network"
   ]
  },
  {
   "cell_type": "code",
   "execution_count": null,
   "id": "cb4092a1",
   "metadata": {},
   "outputs": [],
   "source": [
    "def transfer_routes(grid: Grid, new_substation: NodeArray) -> NodeArray:\n",
    "    \"\"\"Migrate a subset of the routes of the old substation to the new substation.\n",
    "    Each route can be migrated fully or partially.\n",
    "\n",
    "    \"\"\"\n",
    "    congested_routes = get_all_congested_routes(grid)\n",
    "\n",
    "    for route in congested_routes:\n",
    "        closest_node = find_connection_point(\n",
    "            route=route,\n",
    "            new_substation=new_substation\n",
    "        )\n",
    "\n",
    "        connect_to_route(\n",
    "            grid=grid,\n",
    "            connection_point=closest_node,\n",
    "            new_substation=new_substation,\n",
    "        )\n",
    "\n",
    "        optimize_route_transfer(\n",
    "            grid=grid,\n",
    "            connection_point=closest_node,\n",
    "            new_substation=new_substation)\n",
    "        \n",
    "        print(f\"Connected new substation to node {closest_node.id}\")\n",
    "\n",
    "transfer_routes(grid=grid, new_substation=new_substation)"
   ]
  },
  {
   "cell_type": "markdown",
   "id": "82546c38",
   "metadata": {},
   "source": [
    "Check we resolved all contingencies"
   ]
  },
  {
   "cell_type": "code",
   "execution_count": null,
   "id": "8226a9c1",
   "metadata": {},
   "outputs": [],
   "source": [
    "print(check_for_capacity_issues(grid))"
   ]
  },
  {
   "cell_type": "code",
   "execution_count": null,
   "id": "83099a5e",
   "metadata": {},
   "outputs": [],
   "source": [
    "visualize(grid)  "
   ]
  },
  {
   "cell_type": "markdown",
   "id": "a2532f9d-60a9-4fcb-ac23-af6bd3ba47a2",
   "metadata": {},
   "source": [
    "*Note: Jupyter notebook only supports one visualizer instance at a time. You might need to restart the kernel and re-run some cells for this final visualizer to work properly. If you do, make sure to not run earlier cells that contain `visualize(grid)`*"
   ]
  },
  {
   "cell_type": "markdown",
   "id": "1c2de102",
   "metadata": {},
   "source": [
    "# ✅ Wrap-Up\n",
    "You’ve just:\n",
    "\n",
    "- Loaded a grid topology and grid loads from a file\n",
    "- Analyse grid components that are or will soon be overloaded using load flow analysis\n",
    "- Automatically optimize a solution to relieve (future) congestions on the energy grid\n",
    "\n",
    "We hope you enjoyed working with Power Grid Model DS and would love to hear your feedback"
   ]
  }
 ],
 "metadata": {
  "kernelspec": {
   "display_name": "Python 3 (ipykernel)",
   "language": "python",
   "name": "python3"
  },
  "language_info": {
   "codemirror_mode": {
    "name": "ipython",
    "version": 3
   },
   "file_extension": ".py",
   "mimetype": "text/x-python",
   "name": "python",
   "nbconvert_exporter": "python",
   "pygments_lexer": "ipython3",
   "version": "3.13.2"
  }
 },
 "nbformat": 4,
 "nbformat_minor": 5
}
