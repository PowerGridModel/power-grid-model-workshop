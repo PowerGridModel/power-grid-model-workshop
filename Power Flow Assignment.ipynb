{
 "cells": [
  {
   "cell_type": "markdown",
   "id": "a727ce38",
   "metadata": {},
   "source": [
    "# Introduction\n",
    "\n",
    "In this assignment you will be given a series of tasks about using the library `power-grid-model`. The tasks include:\n",
    "\n",
    "1. [Load input](#Assignment-1:-Load-Input-Data)\n",
    "2. [Validate Input Data](#Assignment-2:-Validate-Input-Data)\n",
    "3. [Construct Model](#Assignment-3:-Construct-Model)\n",
    "4. [Calculate One Time Power Flow](#Assignment-4:-Calculate-One-Time-Power-Flow)\n",
    "5. [Time Series Batch Calculation](#Assignment-5:-Time-Series-Batch-Calculation)\n",
    "6. [N 1 Scenario-Batch-Calculation](#Assignment-6:-N-1-Scenario-Batch-Calculation)\n",
    "\n",
    "The input data are CSV files in the `data/` folder:\n",
    "* `node.csv`\n",
    "* `line.csv`\n",
    "* `source.csv`\n",
    "* `sym_load.csv`\n"
   ]
  },
  {
   "cell_type": "markdown",
   "id": "b18d109c",
   "metadata": {},
   "source": [
    "# Preparation\n",
    "\n",
    "First import everything we need for this workshop:"
   ]
  },
  {
   "cell_type": "code",
   "execution_count": null,
   "id": "fbc50a6d",
   "metadata": {},
   "outputs": [],
   "source": [
    "import time\n",
    "from typing import Dict\n",
    "\n",
    "import numpy as np\n",
    "import pandas as pd\n",
    "import matplotlib.pyplot as plt\n",
    "\n",
    "from power_grid_model import (\n",
    "    PowerGridModel,\n",
    "    CalculationType,\n",
    "    CalculationMethod,\n",
    "    initialize_array\n",
    ")\n",
    "\n",
    "from power_grid_model.validation import (\n",
    "    assert_valid_input_data,\n",
    "    assert_valid_batch_data\n",
    ")"
   ]
  },
  {
   "cell_type": "markdown",
   "id": "50065790",
   "metadata": {},
   "source": [
    "Let's define a timer class to easily benchmark the calculations:"
   ]
  },
  {
   "cell_type": "code",
   "execution_count": null,
   "id": "760a38b1",
   "metadata": {},
   "outputs": [],
   "source": [
    "class Timer:\n",
    "    def __init__(self, name: str):\n",
    "        self.name = name\n",
    "        self.start = None\n",
    "\n",
    "    def __enter__(self):\n",
    "        self.start = time.perf_counter()\n",
    "\n",
    "    def __exit__(self, *args):\n",
    "        print(f'Execution time for {self.name} is {(time.perf_counter() - self.start):0.6f} s')"
   ]
  },
  {
   "cell_type": "markdown",
   "id": "0f33163a",
   "metadata": {},
   "source": [
    "The following example measures the time for a simple add operation of two numpy arrays."
   ]
  },
  {
   "cell_type": "code",
   "execution_count": null,
   "id": "a61540cd",
   "metadata": {},
   "outputs": [],
   "source": [
    "a = np.random.rand(1000000)\n",
    "b = np.random.rand(1000000)\n",
    "with Timer(\"Add Operation\"):\n",
    "    c = a + b"
   ]
  },
  {
   "cell_type": "markdown",
   "id": "824a3c36",
   "metadata": {},
   "source": [
    "# Assignment 1: Load Input Data\n",
    "\n",
    "The following function loads the CSV data files from folder `data/` and convert them into one dictionary of numpy structured arrays. The returned dictionary is a compatible input for the constructor of `PowerGridModel`. Please complete the function to construct the input data which is compatible with `PowerGridModel`."
   ]
  },
  {
   "cell_type": "code",
   "execution_count": null,
   "id": "2baee3cd",
   "metadata": {},
   "outputs": [],
   "source": [
    "def load_input_data() -> Dict[str, np.ndarray]:\n",
    "    input_data = {}\n",
    "    for component in ['node', 'line', 'source', 'sym_load']:\n",
    "        \n",
    "        # Use pandas to read CSV data\n",
    "        df = pd.read_csv(f'data/{component}.csv')\n",
    "\n",
    "        # TODO: Initialize array\n",
    "        input_data[component] = ...\n",
    "\n",
    "        # TODO: Fill the attributes\n",
    "        for attr ...:\n",
    "            input_data[component][attr] = ...\n",
    "\n",
    "        # Print some debug info\n",
    "        print(f\"{component:9s}: {len(input_data[component]):4d}\")\n",
    "\n",
    "    return input_data\n",
    "\n",
    "# TODO: Load input data\n",
    "with Timer(\"Loading Input Data\"):\n",
    "    input_data = ...\n"
   ]
  },
  {
   "cell_type": "markdown",
   "id": "728db4b8",
   "metadata": {},
   "source": [
    "# Assignment 2: Validate Input Data\n",
    "\n",
    "It is recommended to validate your data before constructing the `PowerGridModel`. If you are confident about your input data, you can skip this step for performance reasons. The easiest way to validate your input data is using `assert_valid_input_data`, which will raise an exception if there are any errors in your data. Please have a look at the [Validation Examples](https://github.com/alliander-opensource/power-grid-model/blob/main/examples/Validation%20Examples.ipynb) for more detailed information on the validation functions."
   ]
  },
  {
   "cell_type": "code",
   "execution_count": null,
   "id": "b703c8aa",
   "metadata": {},
   "outputs": [],
   "source": [
    "# TODO: Validate input data\n",
    "with Timer(\"Validating Input Data\"):\n",
    "    assert_valid_input_data(...)"
   ]
  },
  {
   "cell_type": "markdown",
   "id": "940d48be",
   "metadata": {},
   "source": [
    "# Assignment 3: Construct Model\n",
    "\n",
    "Create an instance of `PowerGridModel` using the input data. Benchmark the construction time."
   ]
  },
  {
   "cell_type": "code",
   "execution_count": null,
   "id": "71b39571",
   "metadata": {},
   "outputs": [],
   "source": [
    "# TODO: Construct model\n",
    "with Timer(\"Model Construction\"):\n",
    "    model = PowerGridModel(...)\n",
    "\n",
    "# Print the number of objects\n",
    "print(model.all_component_count)"
   ]
  },
  {
   "cell_type": "markdown",
   "id": "2b013fa7",
   "metadata": {},
   "source": [
    "# Assignment 4: Calculate One-Time Power Flow\n",
    "\n",
    "* Calculate one-time power flow, print the highest and lowest loading of the lines.\n",
    "* Try with Newton-Raphson and linear method, compare the results and speed."
   ]
  },
  {
   "cell_type": "code",
   "execution_count": null,
   "id": "88034903",
   "metadata": {},
   "outputs": [],
   "source": [
    "# TODO: Newton-Raphson Power Flow\n",
    "with Timer(\"Newton-Raphson Power Flow\"):\n",
    "    result = ...\n",
    "    \n",
    "# TODO: Print min and max line loading\n",
    "print(\"Min line loading:\", ...)\n",
    "print(\"Max line loading:\", ...)"
   ]
  },
  {
   "cell_type": "code",
   "execution_count": null,
   "id": "a8d298d5",
   "metadata": {},
   "outputs": [],
   "source": [
    "# TODO: Linear Power Flow\n",
    "with Timer(\"Linear Power Flow\"):\n",
    "    result = ...\n",
    "    \n",
    "# TODO: Print min and max line loading\n",
    "print(\"Min line loading:\", ...)\n",
    "print(\"Max line loading:\", ...)"
   ]
  },
  {
   "cell_type": "markdown",
   "id": "14fcc242",
   "metadata": {},
   "source": [
    "# Assignment 5: Time Series Batch Calculation\n",
    "\n",
    "## Load Profile\n",
    "\n",
    "Below we randomly generate a dataframe of load profile. \n",
    "\n",
    "* The column names are the IDs of `sym_load`\n",
    "* Each row is one scenario\n",
    "* Each entry specifies the active power of the load\n",
    "* The reactive power is zero\n"
   ]
  },
  {
   "cell_type": "code",
   "execution_count": null,
   "id": "b58045cc",
   "metadata": {},
   "outputs": [],
   "source": [
    "# Generate random load profile of hourly data\n",
    "n_scenarios = 1000\n",
    "n_loads = len(input_data[\"sym_load\"]) \n",
    "load_id = input_data[\"sym_load\"][\"id\"]\n",
    "load_p = input_data[\"sym_load\"][\"p_specified\"]\n",
    "profile = np.tile(load_p, (n_scenarios, 1)) + 1e4 * np.random.randn(n_scenarios, n_loads)\n",
    "dti = dti = pd.date_range(\"2022-01-01\", periods=n_scenarios, freq=\"H\")\n",
    "df_load_profile = pd.DataFrame(profile, columns=load_id, index=dti)\n",
    "display(df_load_profile)"
   ]
  },
  {
   "cell_type": "markdown",
   "id": "6074de68",
   "metadata": {},
   "source": [
    "## Run Time Series Calculation\n",
    "\n",
    "We want to run a time-series load flow batch calculation using the dataframe.\n",
    "\n",
    "* Convert the load profile into the compatible batch update dataset.\n",
    "* Run the batch calculation.\n",
    "* Compare the calculation methods `newton_raphson` and `linear`."
   ]
  },
  {
   "cell_type": "code",
   "execution_count": null,
   "id": "921310a7",
   "metadata": {},
   "outputs": [],
   "source": [
    "# TODO: Initialize an empty load profile\n",
    "load_profile = initialize_array(..., ..., ...)\n",
    "\n",
    "# TODO: Set the attributes for the batch calculation (assume q_specified = 0.0)\n",
    "load_profile[\"id\"] = ...\n",
    "load_profile[\"p_specified\"] = ...\n",
    "load_profile[\"q_specified\"] = ...\n",
    "\n",
    "# Construct the update data\n",
    "update_data = {\"sym_load\": load_profile}"
   ]
  },
  {
   "cell_type": "code",
   "execution_count": null,
   "id": "9f88ba5f",
   "metadata": {},
   "outputs": [],
   "source": [
    "# Validating batch data can take a long time.\n",
    "# It is recommended to only validate batch data when you run into trouble.\n",
    "with Timer(\"Validating Batch Data\"):\n",
    "    assert_valid_batch_data(input_data=input_data, update_data=update_data, calculation_type=CalculationType.power_flow)"
   ]
  },
  {
   "cell_type": "code",
   "execution_count": null,
   "id": "e7ee773c",
   "metadata": {},
   "outputs": [],
   "source": [
    "# TODO: Run Newton Raphson power flow (this may take a minute...)\n",
    "with Timer(\"Batch Calculation using Newton-Raphson\"):\n",
    "    output_data = model.calculate_power_flow(...)"
   ]
  },
  {
   "cell_type": "code",
   "execution_count": null,
   "id": "251e2edd",
   "metadata": {},
   "outputs": [],
   "source": [
    "# TODO: Run linear power flow\n",
    "with Timer(\"Batch Calculation using linear calculation\"):\n",
    "    output_data_linear = model.calculate_power_flow(...)"
   ]
  },
  {
   "cell_type": "markdown",
   "id": "40bbfb51",
   "metadata": {},
   "source": [
    "### Plotting batch results\n",
    "\n",
    "Lets say we wish to plot the loading of the `line 7` vs time. We can use matplotlib to do so. (Note: The grid and results are randomly generated so dont be alarmed to see loading >100% or other unrealistic result)  "
   ]
  },
  {
   "cell_type": "code",
   "execution_count": null,
   "id": "9ff1aca3",
   "metadata": {},
   "outputs": [],
   "source": [
    "# TODO: Prepare data to be plotted\n",
    "result_loading = output_data[\"line\"][\"loading\"][...]\n",
    "plt.plot(result_loading)\n",
    "plt.title('Loading of line no. 7')\n",
    "plt.xlabel('Time')\n",
    "plt.ylabel('Loading')\n",
    "plt.show()"
   ]
  },
  {
   "cell_type": "markdown",
   "id": "2f433789",
   "metadata": {},
   "source": [
    "### Indexing the results\n",
    "\n",
    "Find the time stamps where loading in `line 7` is greater than `68.4%`"
   ]
  },
  {
   "cell_type": "code",
   "execution_count": null,
   "id": "36842570",
   "metadata": {},
   "outputs": [],
   "source": [
    "# TODO: Fill condition\n",
    "ind = np.where(...)\n",
    "df_load_profile.index[ind]"
   ]
  },
  {
   "cell_type": "markdown",
   "id": "eb7ab8b5",
   "metadata": {},
   "source": [
    "# Assignment 6: N-1 Scenario Batch Calculation\n",
    "\n",
    "We want to run a N-1 Scenario analysis. For each batch calculation, one `line` is disconnected at from- and to-side."
   ]
  },
  {
   "cell_type": "code",
   "execution_count": null,
   "id": "28b46e3a",
   "metadata": {},
   "outputs": [],
   "source": [
    "n_lines = len(input_data[\"line\"])\n",
    "\n",
    "# TODO: Initialize an empty line profile\n",
    "line_profile = initialize_array(..., ..., ...)\n",
    "\n",
    "# TODO: Set the attributes for the batch calculation\n",
    "line_profile[\"id\"] =  ...\n",
    "line_profile[\"from_status\"] = ...\n",
    "line_profile[\"to_status\"] = ...\n",
    "\n",
    "# Construct the update data\n",
    "update_data = {\"line\": line_profile}"
   ]
  },
  {
   "cell_type": "code",
   "execution_count": null,
   "id": "5fa9c6ca",
   "metadata": {},
   "outputs": [],
   "source": [
    "# Validating batch data can take a long time.\n",
    "# It is recommended to only validate batch data when you run into trouble.\n",
    "with Timer(\"Validating Batch Data\"):\n",
    "    assert_valid_batch_data(input_data=input_data, update_data=update_data, calculation_type=CalculationType.power_flow)"
   ]
  },
  {
   "cell_type": "code",
   "execution_count": null,
   "id": "3337a5cb",
   "metadata": {},
   "outputs": [],
   "source": [
    "# TODO: Run Newton Raphson power flow (this may take a minute...)\n",
    "with Timer(\"Batch Calculation using Newton-Raphson\"):\n",
    "    model.calculate_power_flow(...)"
   ]
  },
  {
   "cell_type": "code",
   "execution_count": null,
   "id": "f7ba9924",
   "metadata": {},
   "outputs": [],
   "source": [
    "# TODO: Run linear power flow\n",
    "with Timer(\"Batch Calculation using linear calculation\"):\n",
    "    model.calculate_power_flow(...)"
   ]
  },
  {
   "cell_type": "markdown",
   "id": "6af43b69",
   "metadata": {},
   "source": [
    "## Parallel processing\n",
    "The `calculate_power_flow` method has an optional `threading` argument to define the number of threads ran in parallel. Experiment with different threading values and compare the results..."
   ]
  },
  {
   "cell_type": "code",
   "execution_count": null,
   "id": "9f1a3d88",
   "metadata": {},
   "outputs": [],
   "source": [
    "# By default, sequential threading is used\n",
    "with Timer(\"Sequential\"):\n",
    "    model.calculate_power_flow(update_data=update_data)\n",
    "\n",
    "# TODO: Single thread, this is essentially the same as running a single thread\n",
    "with Timer(\"Single thread\"):\n",
    "    model.calculate_power_flow(update_data=update_data, threading=...)\n",
    "\n",
    "# TODO: Two threads should be faster    \n",
    "with Timer(\"Two threads in parallel\"):\n",
    "    model.calculate_power_flow(update_data=update_data, threading=...)\n",
    "\n",
    "# TODO: Four threads should be even faster    \n",
    "with Timer(\"Four threads in parallel\"):\n",
    "    model.calculate_power_flow(update_data=update_data, threading=...)\n",
    "\n",
    "# TODO: Use number of threads based the machine hardware    \n",
    "with Timer(\"Use number of threads based the machine hardware\"):\n",
    "    model.calculate_power_flow(update_data=update_data, threading=...)"
   ]
  }
 ],
 "metadata": {
  "kernelspec": {
   "display_name": "Python 3 (ipykernel)",
   "language": "python",
   "name": "python3"
  },
  "language_info": {
   "codemirror_mode": {
    "name": "ipython",
    "version": 3
   },
   "file_extension": ".py",
   "mimetype": "text/x-python",
   "name": "python",
   "nbconvert_exporter": "python",
   "pygments_lexer": "ipython3",
   "version": "3.9.13"
  }
 },
 "nbformat": 4,
 "nbformat_minor": 5
}
